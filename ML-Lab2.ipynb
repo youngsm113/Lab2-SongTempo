{
 "cells": [
  {
   "cell_type": "code",
   "execution_count": 7,
   "id": "71ce4dcc-d72b-4528-9a13-5ade8fd8d157",
   "metadata": {},
   "outputs": [
    {
     "name": "stdout",
     "output_type": "stream",
     "text": [
      "<class 'pandas.core.frame.DataFrame'>\n",
      "RangeIndex: 265 entries, 0 to 264\n",
      "Data columns (total 23 columns):\n",
      " #   Column            Non-Null Count  Dtype  \n",
      "---  ------            --------------  -----  \n",
      " 0   Track ID          265 non-null    object \n",
      " 1   Track Name        265 non-null    object \n",
      " 2   Album Name        265 non-null    object \n",
      " 3   Artist Name(s)    265 non-null    object \n",
      " 4   Release Date      265 non-null    object \n",
      " 5   Duration (ms)     265 non-null    int64  \n",
      " 6   Popularity        265 non-null    int64  \n",
      " 7   Added By          265 non-null    object \n",
      " 8   Added At          265 non-null    object \n",
      " 9   Genres            241 non-null    object \n",
      " 10  Record Label      265 non-null    object \n",
      " 11  \t\t\t\tDanceability  265 non-null    float64\n",
      " 12  Energy            265 non-null    float64\n",
      " 13  Key               265 non-null    int64  \n",
      " 14  Loudness          265 non-null    float64\n",
      " 15  Mode              265 non-null    int64  \n",
      " 16  Speechiness       265 non-null    float64\n",
      " 17  Acousticness      265 non-null    float64\n",
      " 18  Instrumentalness  265 non-null    float64\n",
      " 19  Liveness          265 non-null    float64\n",
      " 20  Valence           265 non-null    float64\n",
      " 21  Tempo             265 non-null    float64\n",
      " 22  Time Signature    265 non-null    int64  \n",
      "dtypes: float64(9), int64(5), object(9)\n",
      "memory usage: 47.7+ KB\n"
     ]
    }
   ],
   "source": [
    "import pandas as pd #data processing and CSV file read\n",
    "df=pd.read_csv(\"C:/Users/smyou/Downloads/lab2/origins.csv\")\n",
    "\n",
    "#Obtain basic structure and information on dataset\n",
    "df.head()\n",
    "df.info()"
   ]
  },
  {
   "cell_type": "code",
   "execution_count": 9,
   "id": "2cc280bc-bbeb-4367-b1ab-7035e2d350d6",
   "metadata": {},
   "outputs": [
    {
     "data": {
      "text/plain": [
       "(265, 23)"
      ]
     },
     "execution_count": 9,
     "metadata": {},
     "output_type": "execute_result"
    }
   ],
   "source": [
    "df.shape"
   ]
  },
  {
   "cell_type": "code",
   "execution_count": 11,
   "id": "bc3e904e-4b91-41e6-b8c4-85fc7a34f6ad",
   "metadata": {},
   "outputs": [],
   "source": [
    "#Based on the data, I further decided to classify the playlist based on Tempo using three binned classifications (slow, medium and fast)"
   ]
  },
  {
   "cell_type": "code",
   "execution_count": 23,
   "id": "44cdeccc-e3aa-4106-ac02-0db9fe397ba0",
   "metadata": {},
   "outputs": [
    {
     "data": {
      "text/html": [
       "<div>\n",
       "<style scoped>\n",
       "    .dataframe tbody tr th:only-of-type {\n",
       "        vertical-align: middle;\n",
       "    }\n",
       "\n",
       "    .dataframe tbody tr th {\n",
       "        vertical-align: top;\n",
       "    }\n",
       "\n",
       "    .dataframe thead th {\n",
       "        text-align: right;\n",
       "    }\n",
       "</style>\n",
       "<table border=\"1\" class=\"dataframe\">\n",
       "  <thead>\n",
       "    <tr style=\"text-align: right;\">\n",
       "      <th></th>\n",
       "      <th>Duration (ms)</th>\n",
       "      <th>Popularity</th>\n",
       "      <th>Danceability</th>\n",
       "      <th>Energy</th>\n",
       "      <th>Loudness</th>\n",
       "      <th>Mode</th>\n",
       "      <th>Speechiness</th>\n",
       "      <th>Acousticness</th>\n",
       "      <th>Instrumentalness</th>\n",
       "      <th>Liveness</th>\n",
       "      <th>Valence</th>\n",
       "      <th>Time Signature</th>\n",
       "    </tr>\n",
       "  </thead>\n",
       "  <tbody>\n",
       "    <tr>\n",
       "      <th>0</th>\n",
       "      <td>203106</td>\n",
       "      <td>55</td>\n",
       "      <td>0.591</td>\n",
       "      <td>0.611</td>\n",
       "      <td>-5.884</td>\n",
       "      <td>0</td>\n",
       "      <td>0.0454</td>\n",
       "      <td>0.0153</td>\n",
       "      <td>0.000000</td>\n",
       "      <td>0.0757</td>\n",
       "      <td>0.120</td>\n",
       "      <td>4</td>\n",
       "    </tr>\n",
       "    <tr>\n",
       "      <th>1</th>\n",
       "      <td>223405</td>\n",
       "      <td>39</td>\n",
       "      <td>0.789</td>\n",
       "      <td>0.555</td>\n",
       "      <td>-5.900</td>\n",
       "      <td>1</td>\n",
       "      <td>0.0410</td>\n",
       "      <td>0.0260</td>\n",
       "      <td>0.000135</td>\n",
       "      <td>0.2150</td>\n",
       "      <td>0.713</td>\n",
       "      <td>4</td>\n",
       "    </tr>\n",
       "    <tr>\n",
       "      <th>2</th>\n",
       "      <td>195700</td>\n",
       "      <td>63</td>\n",
       "      <td>0.572</td>\n",
       "      <td>0.807</td>\n",
       "      <td>-5.348</td>\n",
       "      <td>1</td>\n",
       "      <td>0.0574</td>\n",
       "      <td>0.0846</td>\n",
       "      <td>0.000000</td>\n",
       "      <td>0.0710</td>\n",
       "      <td>0.626</td>\n",
       "      <td>4</td>\n",
       "    </tr>\n",
       "    <tr>\n",
       "      <th>3</th>\n",
       "      <td>184546</td>\n",
       "      <td>19</td>\n",
       "      <td>0.688</td>\n",
       "      <td>0.616</td>\n",
       "      <td>-7.334</td>\n",
       "      <td>1</td>\n",
       "      <td>0.0451</td>\n",
       "      <td>0.0138</td>\n",
       "      <td>0.000461</td>\n",
       "      <td>0.1210</td>\n",
       "      <td>0.205</td>\n",
       "      <td>4</td>\n",
       "    </tr>\n",
       "    <tr>\n",
       "      <th>4</th>\n",
       "      <td>172760</td>\n",
       "      <td>38</td>\n",
       "      <td>0.515</td>\n",
       "      <td>0.410</td>\n",
       "      <td>-7.121</td>\n",
       "      <td>1</td>\n",
       "      <td>0.0411</td>\n",
       "      <td>0.5550</td>\n",
       "      <td>0.000041</td>\n",
       "      <td>0.1030</td>\n",
       "      <td>0.246</td>\n",
       "      <td>4</td>\n",
       "    </tr>\n",
       "    <tr>\n",
       "      <th>...</th>\n",
       "      <td>...</td>\n",
       "      <td>...</td>\n",
       "      <td>...</td>\n",
       "      <td>...</td>\n",
       "      <td>...</td>\n",
       "      <td>...</td>\n",
       "      <td>...</td>\n",
       "      <td>...</td>\n",
       "      <td>...</td>\n",
       "      <td>...</td>\n",
       "      <td>...</td>\n",
       "      <td>...</td>\n",
       "    </tr>\n",
       "    <tr>\n",
       "      <th>260</th>\n",
       "      <td>180381</td>\n",
       "      <td>75</td>\n",
       "      <td>0.621</td>\n",
       "      <td>0.415</td>\n",
       "      <td>-13.187</td>\n",
       "      <td>1</td>\n",
       "      <td>0.0543</td>\n",
       "      <td>0.3300</td>\n",
       "      <td>0.000112</td>\n",
       "      <td>0.0634</td>\n",
       "      <td>0.313</td>\n",
       "      <td>4</td>\n",
       "    </tr>\n",
       "    <tr>\n",
       "      <th>261</th>\n",
       "      <td>192317</td>\n",
       "      <td>75</td>\n",
       "      <td>0.619</td>\n",
       "      <td>0.610</td>\n",
       "      <td>-5.552</td>\n",
       "      <td>0</td>\n",
       "      <td>0.0298</td>\n",
       "      <td>0.0508</td>\n",
       "      <td>0.000000</td>\n",
       "      <td>0.0658</td>\n",
       "      <td>0.600</td>\n",
       "      <td>4</td>\n",
       "    </tr>\n",
       "    <tr>\n",
       "      <th>262</th>\n",
       "      <td>276026</td>\n",
       "      <td>30</td>\n",
       "      <td>0.578</td>\n",
       "      <td>0.459</td>\n",
       "      <td>-9.389</td>\n",
       "      <td>0</td>\n",
       "      <td>0.0420</td>\n",
       "      <td>0.6830</td>\n",
       "      <td>0.934000</td>\n",
       "      <td>0.1020</td>\n",
       "      <td>0.314</td>\n",
       "      <td>4</td>\n",
       "    </tr>\n",
       "    <tr>\n",
       "      <th>263</th>\n",
       "      <td>209077</td>\n",
       "      <td>71</td>\n",
       "      <td>0.467</td>\n",
       "      <td>0.247</td>\n",
       "      <td>-14.161</td>\n",
       "      <td>1</td>\n",
       "      <td>0.0314</td>\n",
       "      <td>0.9060</td>\n",
       "      <td>0.015700</td>\n",
       "      <td>0.1570</td>\n",
       "      <td>0.258</td>\n",
       "      <td>4</td>\n",
       "    </tr>\n",
       "    <tr>\n",
       "      <th>264</th>\n",
       "      <td>220248</td>\n",
       "      <td>52</td>\n",
       "      <td>0.477</td>\n",
       "      <td>0.377</td>\n",
       "      <td>-6.054</td>\n",
       "      <td>1</td>\n",
       "      <td>0.0320</td>\n",
       "      <td>0.8360</td>\n",
       "      <td>0.000000</td>\n",
       "      <td>0.1170</td>\n",
       "      <td>0.453</td>\n",
       "      <td>4</td>\n",
       "    </tr>\n",
       "  </tbody>\n",
       "</table>\n",
       "<p>265 rows × 12 columns</p>\n",
       "</div>"
      ],
      "text/plain": [
       "     Duration (ms)  Popularity  Danceability  Energy  Loudness  Mode  \\\n",
       "0           203106          55         0.591   0.611    -5.884     0   \n",
       "1           223405          39         0.789   0.555    -5.900     1   \n",
       "2           195700          63         0.572   0.807    -5.348     1   \n",
       "3           184546          19         0.688   0.616    -7.334     1   \n",
       "4           172760          38         0.515   0.410    -7.121     1   \n",
       "..             ...         ...           ...     ...       ...   ...   \n",
       "260         180381          75         0.621   0.415   -13.187     1   \n",
       "261         192317          75         0.619   0.610    -5.552     0   \n",
       "262         276026          30         0.578   0.459    -9.389     0   \n",
       "263         209077          71         0.467   0.247   -14.161     1   \n",
       "264         220248          52         0.477   0.377    -6.054     1   \n",
       "\n",
       "     Speechiness  Acousticness  Instrumentalness  Liveness  Valence  \\\n",
       "0         0.0454        0.0153          0.000000    0.0757    0.120   \n",
       "1         0.0410        0.0260          0.000135    0.2150    0.713   \n",
       "2         0.0574        0.0846          0.000000    0.0710    0.626   \n",
       "3         0.0451        0.0138          0.000461    0.1210    0.205   \n",
       "4         0.0411        0.5550          0.000041    0.1030    0.246   \n",
       "..           ...           ...               ...       ...      ...   \n",
       "260       0.0543        0.3300          0.000112    0.0634    0.313   \n",
       "261       0.0298        0.0508          0.000000    0.0658    0.600   \n",
       "262       0.0420        0.6830          0.934000    0.1020    0.314   \n",
       "263       0.0314        0.9060          0.015700    0.1570    0.258   \n",
       "264       0.0320        0.8360          0.000000    0.1170    0.453   \n",
       "\n",
       "     Time Signature  \n",
       "0                 4  \n",
       "1                 4  \n",
       "2                 4  \n",
       "3                 4  \n",
       "4                 4  \n",
       "..              ...  \n",
       "260               4  \n",
       "261               4  \n",
       "262               4  \n",
       "263               4  \n",
       "264               4  \n",
       "\n",
       "[265 rows x 12 columns]"
      ]
     },
     "execution_count": 23,
     "metadata": {},
     "output_type": "execute_result"
    }
   ],
   "source": [
    "# Rename any malformed column (e.g., Danceability), just in case I need it later\n",
    "df.columns = df.columns.str.strip()\n",
    "\n",
    "# Create target variable\n",
    "df['Tempo_Class'] = df['Tempo'].apply(categorize_tempo)\n",
    "\n",
    "# Define features and target\n",
    "y = df['Tempo_Class']\n",
    "X = df.drop(columns=[\n",
    "    'Track ID', 'Track Name', 'Album Name', 'Artist Name(s)', 'Release Date',\n",
    "    'Added By', 'Added At', 'Genres', 'Tempo', 'Tempo_Class','Record Label', 'Key'])\n",
    "X"
   ]
  },
  {
   "cell_type": "code",
   "execution_count": 25,
   "id": "5051dc1d-4bc6-4e73-8173-1994103060c2",
   "metadata": {},
   "outputs": [
    {
     "data": {
      "text/plain": [
       "((212, 12), (53, 12))"
      ]
     },
     "execution_count": 25,
     "metadata": {},
     "output_type": "execute_result"
    }
   ],
   "source": [
    "# Preprocessing\n",
    "from sklearn.preprocessing import LabelEncoder, StandardScaler\n",
    "from sklearn.impute import SimpleImputer\n",
    "from sklearn.model_selection import train_test_split\n",
    "\n",
    "le = LabelEncoder()\n",
    "y_encoded = le.fit_transform(y)\n",
    "\n",
    "X_encoded = pd.get_dummies(X)\n",
    "imputer = SimpleImputer(strategy='most_frequent')\n",
    "X_imputed = imputer.fit_transform(X_encoded)\n",
    "scaler = StandardScaler()\n",
    "X_scaled = scaler.fit_transform(X_imputed)\n",
    "\n",
    "#Splitting data into training and testing\n",
    "X_train, X_test, y_train, y_test = train_test_split(X_scaled, y_encoded, test_size=0.2, random_state=42)\n",
    "tempo_labels = le.classes_\n",
    "X_train.shape, X_test.shape"
   ]
  },
  {
   "cell_type": "code",
   "execution_count": 27,
   "id": "e69bf0a5-5b87-4355-b173-cda60cd274ee",
   "metadata": {},
   "outputs": [
    {
     "data": {
      "text/plain": [
       "((212,), (53,))"
      ]
     },
     "execution_count": 27,
     "metadata": {},
     "output_type": "execute_result"
    }
   ],
   "source": [
    "y_train.shape,y_test.shape"
   ]
  },
  {
   "cell_type": "code",
   "execution_count": 29,
   "id": "00dd6b37-d3dc-4d50-945d-f9f1af7a226b",
   "metadata": {},
   "outputs": [
    {
     "data": {
      "text/plain": [
       "Tempo_Class\n",
       "Medium    97\n",
       "Fast      95\n",
       "Slow      73\n",
       "Name: count, dtype: int64"
      ]
     },
     "execution_count": 29,
     "metadata": {},
     "output_type": "execute_result"
    }
   ],
   "source": [
    "df['Tempo_Class'].value_counts()"
   ]
  },
  {
   "cell_type": "code",
   "execution_count": 31,
   "id": "80de0a76-d766-4abf-a0a7-e808036d8fc0",
   "metadata": {},
   "outputs": [
    {
     "data": {
      "text/plain": [
       "<Axes: xlabel='Tempo_Class'>"
      ]
     },
     "execution_count": 31,
     "metadata": {},
     "output_type": "execute_result"
    },
    {
     "data": {
      "image/png": "[encoded data removed]",
      "text/plain": [
       "<Figure size 640x480 with 1 Axes>"
      ]
     },
     "metadata": {},
     "output_type": "display_data"
    }
   ],
   "source": [
    "df['Tempo_Class'].value_counts().plot.bar(color=['blue','orange','green'])"
   ]
  },
  {
   "cell_type": "code",
   "execution_count": 21,
   "id": "2e66a0b3-bb00-48e6-a06e-80989f66df68",
   "metadata": {},
   "outputs": [],
   "source": [
    "# Train and evaluate models\n",
    "from sklearn.linear_model import LogisticRegression\n",
    "from sklearn.neighbors import KNeighborsClassifier\n",
    "from sklearn.tree import DecisionTreeClassifier\n",
    "from sklearn.metrics import classification_report\n",
    "\n",
    "models = {\n",
    "    'Logistic Regression': LogisticRegression(max_iter=1000, random_state=42),\n",
    "    'k-NN': KNeighborsClassifier(n_neighbors=5),\n",
    "    'Decision Tree': DecisionTreeClassifier(random_state=42)\n",
    "}\n",
    "\n",
    "results = {}\n",
    "for name, model in models.items():\n",
    "    model.fit(X_train, y_train)\n",
    "    y_pred = model.predict(X_test)\n",
    "    report = classification_report(y_test, y_pred, target_names=tempo_labels, output_dict=True)\n",
    "    results[name] = report\n",
    "\n",
    "# Convert reports to DataFrames\n",
    "report_dfs_tempo = {model: pd.DataFrame(metrics).T for model, metrics in results.items()}"
   ]
  },
  {
   "cell_type": "code",
   "execution_count": 33,
   "id": "f014215e-3d52-49c2-a979-68d795b5ad43",
   "metadata": {},
   "outputs": [
    {
     "data": {
      "text/plain": [
       "{'Logistic Regression':               precision    recall  f1-score    support\n",
       " Fast           0.666667  0.380952  0.484848  21.000000\n",
       " Medium         0.428571  0.428571  0.428571  21.000000\n",
       " Slow           0.100000  0.181818  0.129032  11.000000\n",
       " accuracy       0.358491  0.358491  0.358491   0.358491\n",
       " macro avg      0.398413  0.330447  0.347484  53.000000\n",
       " weighted avg   0.454717  0.358491  0.388701  53.000000,\n",
       " 'k-NN':               precision    recall  f1-score    support\n",
       " Fast           0.538462  0.666667  0.595745  21.000000\n",
       " Medium         0.571429  0.571429  0.571429  21.000000\n",
       " Slow           0.333333  0.181818  0.235294  11.000000\n",
       " accuracy       0.528302  0.528302  0.528302   0.528302\n",
       " macro avg      0.481074  0.473304  0.467489  53.000000\n",
       " weighted avg   0.508950  0.528302  0.511300  53.000000,\n",
       " 'Decision Tree':               precision    recall  f1-score    support\n",
       " Fast           0.444444  0.380952  0.410256  21.000000\n",
       " Medium         0.562500  0.428571  0.486486  21.000000\n",
       " Slow           0.315789  0.545455  0.400000  11.000000\n",
       " accuracy       0.433962  0.433962  0.433962   0.433962\n",
       " macro avg      0.440911  0.451659  0.432248  53.000000\n",
       " weighted avg   0.464519  0.433962  0.438332  53.000000}"
      ]
     },
     "execution_count": 33,
     "metadata": {},
     "output_type": "execute_result"
    }
   ],
   "source": [
    "report_dfs_tempo"
   ]
  },
  {
   "cell_type": "code",
   "execution_count": 35,
   "id": "9ff053c1-a5f9-4c7f-bc60-a8468b48132c",
   "metadata": {},
   "outputs": [
    {
     "data": {
      "text/plain": [
       "<Figure size 1000x600 with 0 Axes>"
      ]
     },
     "metadata": {},
     "output_type": "display_data"
    },
    {
     "data": {
      "image/png": "[encoded data removed]",
      "text/plain": [
       "<Figure size 1200x600 with 1 Axes>"
      ]
     },
     "metadata": {},
     "output_type": "display_data"
    }
   ],
   "source": [
    "import matplotlib.pyplot as plt\n",
    "\n",
    "# Extract F1-scores for each class and model\n",
    "f1_scores = {\n",
    "    model: df.loc[tempo_labels, 'f1-score'] for model, df in report_dfs_tempo.items()\n",
    "}\n",
    "\n",
    "# Create a DataFrame for comparison\n",
    "f1_df = pd.DataFrame(f1_scores)\n",
    "\n",
    "# Plot the F1-scores\n",
    "plt.figure(figsize=(10, 6))\n",
    "f1_df.plot(kind='bar', figsize=(12, 6))\n",
    "plt.title('F1-Score Comparison Across Models and Tempo Classes')\n",
    "plt.ylabel('F1-Score')\n",
    "plt.xlabel('Tempo Class')\n",
    "plt.ylim(0, 1)\n",
    "plt.xticks(rotation=0)\n",
    "plt.legend(title='Model')\n",
    "plt.grid(axis='y', linestyle='--', alpha=0.7)\n",
    "plt.tight_layout()\n",
    "plt.show()"
   ]
  },
  {
   "cell_type": "code",
   "execution_count": null,
   "id": "622af28e-4c50-4a09-9b1a-cc07fbb548b4",
   "metadata": {},
   "outputs": [],
   "source": []
  }
 ],
 "metadata": {
  "kernelspec": {
   "display_name": "Python 3 (ipykernel)",
   "language": "python",
   "name": "python3"
  },
  "language_info": {
   "codemirror_mode": {
    "name": "ipython",
    "version": 3
   },
   "file_extension": ".py",
   "mimetype": "text/x-python",
   "name": "python",
   "nbconvert_exporter": "python",
   "pygments_lexer": "ipython3",
   "version": "3.11.7"
  }
 },
 "nbformat": 4,
 "nbformat_minor": 5
}
